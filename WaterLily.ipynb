{
 "cells": [
  {
   "cell_type": "markdown",
   "metadata": {
    "slideshow": {
     "slide_type": "slide"
    }
   },
   "source": [
    "<center><h1>Meeting</h1></center>\n",
    "\n",
    "---\n",
    "\n",
    "<center>Marin Lauber</center>"
   ]
  },
  {
   "cell_type": "markdown",
   "metadata": {
    "slideshow": {
     "slide_type": "slide"
    }
   },
   "source": [
    "### **I**nterface **Q**uasi-**N**ewton **I**nverse **L**east-**S**quare...\n",
    "\n",
    "Standard Newton requires the Jacobian $J$, but for FSI this is unknown (or VERY exapensive)\n",
    "\n",
    "$$\n",
    "x^{k+1} = x^k + Δx^k \\\\\n",
    "Δx^k = J\\backslash-r^k\n",
    "$$\n"
   ]
  },
  {
   "cell_type": "markdown",
   "metadata": {
    "slideshow": {
     "slide_type": "fragment"
    }
   },
   "source": [
    "\n",
    "Quasi-Newton Scheme say the we don't need $J$ but a good approximation $\\tilde{J}^k∼ J$ is sufficient."
   ]
  },
  {
   "cell_type": "markdown",
   "metadata": {
    "slideshow": {
     "slide_type": "slide"
    }
   },
   "source": [
    "### How to get (learn?!) $\\tilde{J}^k$?\n",
    "\n",
    "Imagine we have some previously data $\\tilde{x}^k = H(x^k)=F \\circ S(xᵏ)$ and residuals $r^k=\\tilde{x}^k-x^k$, we can assemble the changes between these previous data and the current data into a $W^k$ and $V^k$ matrix.\n",
    "\n",
    "$$\n",
    "V^k = [r^k-r^{k-1}, r^k-r^{k-2}, ..., r^k-r^0]\\\\\n",
    "W^k = [\\tilde{x}^k-\\tilde{x}^{k-1}, \\tilde{x}^k-\\tilde{x}^{k-2}, ..., \\tilde{x}^k-\\tilde{x}^0]\n",
    "$$\n"
   ]
  },
  {
   "cell_type": "markdown",
   "metadata": {
    "slideshow": {
     "slide_type": "fragment"
    }
   },
   "source": [
    "\n",
    "Then we can use $V^k$ and $W^k$ to approximate $J$, as they all satisfy the multi-secant equation\n",
    "$$\n",
    "\\tilde{J}^{-1} V^k = W^k\n",
    "$$\n",
    "a Least-Square solution only is possible (overdetemined system)\n",
    "$$\n",
    "\\tilde{J}^{-1} = W^k\\left({V^k}^\\top{V^k}\\right)^{-1}{V^k}^\\top\n",
    "$$"
   ]
  },
  {
   "cell_type": "markdown",
   "metadata": {
    "slideshow": {
     "slide_type": "slide"
    }
   },
   "source": [
    "For convergence, we aim at having $Δr = 0 - rᵏ$, which can be expressed as a combinason of the previous residuals\n",
    "\n",
    "$$\n",
    "    Δ r = 0 - r^k \\approx V^kc^k\n",
    "$$"
   ]
  },
  {
   "cell_type": "markdown",
   "metadata": {
    "slideshow": {
     "slide_type": "fragment"
    }
   },
   "source": [
    "We can solve this problem in a least square sense\n",
    "\n",
    "$$\n",
    "    cᵏ = \\text{argmin} \\left \\Vert V^kc^k + rᵏ \\right\\Vert_2\n",
    "$$\n",
    "and then\n",
    "$$\n",
    "    x^{k+1} = x^k + W^kc^k + r^k = \\tilde{x}^k + W^kc^k\n",
    "$$\n",
    "\n",
    "First step used relaxation\n",
    "\n",
    "$$\n",
    "    x^{k+1} = x^k + \\omega r^k\n",
    "$$"
   ]
  },
  {
   "cell_type": "markdown",
   "metadata": {
    "slideshow": {
     "slide_type": "slide"
    }
   },
   "source": [
    "## On linear system\n",
    "\n",
    "$$\n",
    "    H(x) = x + (b - Ax)\n",
    "$$\n",
    "starting with $x^0=0$\n",
    "\n",
    "<center><img src=IQN_ILS_0.svg width=1000>"
   ]
  },
  {
   "cell_type": "markdown",
   "metadata": {
    "slideshow": {
     "slide_type": "slide"
    }
   },
   "source": [
    "starting with $x^0=b$\n",
    "\n",
    "</center><center><img src=IQN_ILS_x0.svg width=1000></center>"
   ]
  },
  {
   "cell_type": "markdown",
   "metadata": {
    "slideshow": {
     "slide_type": "slide"
    }
   },
   "source": [
    "## On the FSI system\n",
    "\n",
    "Gauss-Seidel type coupling $H(x) = F∘ S(x)$, $M_\\rho=$, $Ca=$\n",
    "\n",
    "Relaxation ∼ 13, IQN ∼ 19 (iter $∼ n+1$) iterations per time steps\n",
    "\n",
    "</center><center><img src=perpendicular_flap.gif width=800></center>\n",
    "\n"
   ]
  },
  {
   "cell_type": "markdown",
   "metadata": {
    "slideshow": {
     "slide_type": "slide"
    }
   },
   "source": [
    "# Residuals at each time-step\n",
    "\n",
    "\n",
    "</center><center><img src=iter_IQN_resid.svg width=1000></center>"
   ]
  },
  {
   "cell_type": "code",
   "execution_count": 1,
   "metadata": {},
   "outputs": [],
   "source": []
  },
  {
   "cell_type": "code",
   "execution_count": 2,
   "metadata": {},
   "outputs": [],
   "source": []
  },
  {
   "cell_type": "code",
   "execution_count": 3,
   "metadata": {
    "slideshow": {
     "slide_type": "slide"
    }
   },
   "outputs": [
    {
     "ename": "UndefVarError",
     "evalue": "UndefVarError: `triu` not defined",
     "output_type": "error",
     "traceback": [
      "UndefVarError: `triu` not defined\n",
      "\n",
      "Stacktrace:\n",
      " [1] top-level scope\n",
      "   @ ~/Workspace/WaterLily/WaterLily.ipynb:4"
     ]
    }
   ],
   "source": [
    "# non-symmetric matrix wih know eigenvalues\n",
    "N = 100\n",
    "λ = 10 .+ (1:N)\n",
    "A = triu(rand(N,N),1) + diagm(λ) # very diagonally dominant"
   ]
  },
  {
   "cell_type": "markdown",
   "metadata": {
    "slideshow": {
     "slide_type": "slide"
    }
   },
   "source": [
    "### On linear system, should converge in $n+1$ iterations\n",
    "\n",
    "<center><img src=images/GMRESvsIQNILS.png width=1000></center>"
   ]
  },
  {
   "cell_type": "markdown",
   "metadata": {
    "slideshow": {
     "slide_type": "slide"
    }
   },
   "source": [
    "<center><h1><font color=\"blue\">Part 2</font></h1></center>"
   ]
  },
  {
   "cell_type": "markdown",
   "metadata": {
    "slideshow": {
     "slide_type": "slide"
    }
   },
   "source": [
    "### NURBS into WaterLily for IGA..."
   ]
  },
  {
   "cell_type": "code",
   "execution_count": 4,
   "metadata": {
    "slideshow": {
     "slide_type": "fragment"
    }
   },
   "outputs": [
    {
     "ename": "UndefVarError",
     "evalue": "UndefVarError: `SVector` not defined",
     "output_type": "error",
     "traceback": [
      "UndefVarError: `SVector` not defined\n",
      "\n",
      "Stacktrace:\n",
      " [1] (::var\"#11#12\")(i::Int64)\n",
      "   @ Main ./none:0\n",
      " [2] iterate\n",
      "   @ ./generator.jl:47 [inlined]\n",
      " [3] collect(itr::Base.Generator{UnitRange{Int64}, var\"#11#12\"})\n",
      "   @ Base ./array.jl:782\n",
      " [4] top-level scope\n",
      "   @ ~/Workspace/WaterLily/WaterLily.ipynb:1"
     ]
    }
   ],
   "source": [
    "Points = [SVector(i-5, sin(i^2)) for i in 1:9]\n",
    "Body = SplineBody(Points;deg=2)\n",
    "sim = Simulation((8L,6L),(U,0),L;U,ν=U*L/Re,body=Body)"
   ]
  },
  {
   "cell_type": "markdown",
   "metadata": {
    "slideshow": {
     "slide_type": "slide"
    }
   },
   "source": [
    "<center><img src=images/NURBS.gif width=1000></center>"
   ]
  },
  {
   "cell_type": "markdown",
   "metadata": {
    "slideshow": {
     "slide_type": "fragment"
    }
   },
   "source": [
    "<center><img src=images/NURBS_flow_2.gif width=1000></center>"
   ]
  },
  {
   "cell_type": "markdown",
   "metadata": {
    "slideshow": {
     "slide_type": "slide"
    }
   },
   "source": [
    "### Distance function is difficult\n",
    "\n",
    "<center><img src=images/FastNURBS2.png width=1000></center>"
   ]
  },
  {
   "cell_type": "markdown",
   "metadata": {
    "slideshow": {
     "slide_type": "slide"
    }
   },
   "source": [
    "Discrete distance function is better\n",
    "\n",
    "<center><img src=images/anim_fps15.gif width=1000></center>"
   ]
  },
  {
   "cell_type": "markdown",
   "metadata": {
    "slideshow": {
     "slide_type": "slide"
    }
   },
   "source": [
    "<center><h1>Flows with NURBS</h1></center>"
   ]
  },
  {
   "cell_type": "markdown",
   "metadata": {
    "slideshow": {
     "slide_type": "slide"
    }
   },
   "source": [
    "<center><img src=images/circle_NURBS_flow.gif width=1000></center>"
   ]
  },
  {
   "cell_type": "markdown",
   "metadata": {
    "slideshow": {
     "slide_type": "slide"
    }
   },
   "source": [
    "<center><img src=images/NURBS_flow_2.gif width=1000></center>"
   ]
  },
  {
   "cell_type": "markdown",
   "metadata": {
    "slideshow": {
     "slide_type": "slide"
    }
   },
   "source": [
    "<center><img src=https://media.tenor.com/H17QEUuqMfgAAAAd/tom-scott-future-me.gif width=1000></center>></center>"
   ]
  },
  {
   "cell_type": "markdown",
   "metadata": {
    "slideshow": {
     "slide_type": "slide"
    }
   },
   "source": [
    "<center><img src=nan_flow.gif width=1000></center>"
   ]
  },
  {
   "cell_type": "markdown",
   "metadata": {
    "slideshow": {
     "slide_type": "slide"
    }
   },
   "source": [
    "<center><img src=nan_flow.svg width=1000></center>"
   ]
  },
  {
   "cell_type": "code",
   "execution_count": 5,
   "metadata": {
    "slideshow": {
     "slide_type": "slide"
    }
   },
   "outputs": [
    {
     "ename": "UndefVarError",
     "evalue": "UndefVarError: `SplineBody` not defined",
     "output_type": "error",
     "traceback": [
      "UndefVarError: `SplineBody` not defined\n",
      "\n",
      "Stacktrace:\n",
      " [1] top-level scope\n",
      "   @ ~/Workspace/WaterLily/WaterLily.ipynb:1"
     ]
    }
   ],
   "source": [
    "function measure(body::SplineBody,x,t)\n",
    "    # eval d=f(x,t), and n̂ = ∇f\n",
    "    d = body.sdf(x,t)\n",
    "    n = ForwardDiff.gradient(x->body.sdf(x,t), x)\n",
    "\n",
    "    # correct general implicit fnc f(x₀)=0 to be a pseudo-sdf\n",
    "    #   f(x) = f(x₀)+d|∇f|+O(d²) ∴  d ≈ f(x)/|∇f|\n",
    "    m = √sum(abs2,n); d /= m; n /= m\n",
    "\n",
    "    # The velocity depends on the material change of ξ=m(x,t):\n",
    "    #   Dm/Dt=0 → ṁ + (dm/dx)ẋ = 0 ∴  ẋ =-(dm/dx)\\ṁ\n",
    "    J = ForwardDiff.jacobian(x->body.map(x,t), x)\n",
    "    dot = ForwardDiff.derivative(t->body.map(x,t), t)\n",
    "    return (d,n,-J\\dot)\n",
    "end"
   ]
  },
  {
   "cell_type": "markdown",
   "metadata": {
    "slideshow": {
     "slide_type": "slide"
    }
   },
   "source": [
    "$$\n",
    " \\vec{f} = -\\oint_{\\partial\\Omega} p\\vec{n}\\text{ d}s\n",
    "$$\n",
    "\n",
    "Hydrostatic force -> $F/\\pi R^2 = 1$ (1.0683)\n",
    "\n",
    "<center><img src=images/hydrostatic.svg width=1000></center>"
   ]
  }
 ],
 "metadata": {
  "celltoolbar": "Slideshow",
  "kernelspec": {
   "display_name": "Julia 1.9.0",
   "language": "julia",
   "name": "julia-1.9"
  },
  "language_info": {
   "file_extension": ".jl",
   "mimetype": "application/julia",
   "name": "julia",
   "version": "1.9.2"
  }
 },
 "nbformat": 4,
 "nbformat_minor": 2
}
