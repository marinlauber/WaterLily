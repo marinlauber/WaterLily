{
 "cells": [
  {
   "cell_type": "markdown",
   "metadata": {
    "slideshow": {
     "slide_type": "slide"
    }
   },
   "source": [
    "\n",
    "## With `master` branch\n",
    "\n",
    "<table>\n",
    "  <tr>\n",
    "    <td> <img src=\"pressure_debug/MG_iter_2D_circle_64_master.gif\"  alt=\"1\" width = 400px></td>\n",
    "    <td> <img src=\"pressure_debug/MG_iter_2D_circle_128_master.gif\"  alt=\"2\" width = 400px></td>\n",
    "    <td> <img src=\"pressure_debug/MG_iter_2D_circle_256_master.gif\"  alt=\"2\" width = 400px></td>\n",
    "  </tr>\n",
    "\n",
    "<table>\n",
    "  <tr>\n",
    "    <td> <img src=\"pressure_debug/MG_iter_2D_circle_64_master.png\"  alt=\"1\" width = 400px></td>\n",
    "    <td> <img src=\"pressure_debug/MG_iter_2D_circle_128_master.png\"  alt=\"2\" width = 400px></td>\n",
    "    <td> <img src=\"pressure_debug/MG_iter_2D_circle_256_master.png\"  alt=\"2\" width = 400px></td>\n",
    "  </tr>\n",
    "</table>"
   ]
  },
  {
   "cell_type": "markdown",
   "metadata": {
    "slideshow": {
     "slide_type": "slide"
    }
   },
   "source": [
    "## With `master` branch, but circle stays the same length `L`\n",
    "\n",
    "<table>\n",
    "  <tr>\n",
    "    <td> <img src=\"pressure_debug/MG_iter_2D_circle_64_master_2.gif\"  alt=\"1\" width = 360px></td>\n",
    "    <td> <img src=\"pressure_debug/MG_iter_2D_circle_128_master_2.gif\"  alt=\"2\" width = 360px></td>\n",
    "    <td> <img src=\"pressure_debug/MG_iter_2D_circle_256_master_2.gif\"  alt=\"2\" width = 360px></td>\n",
    "  </tr>\n",
    "\n",
    "<table>\n",
    "  <tr>\n",
    "    <td> <img src=\"pressure_debug/MG_iter_2D_circle_64_master_2.png\"  alt=\"1\" width = 360px></td>\n",
    "    <td> <img src=\"pressure_debug/MG_iter_2D_circle_128_master_2.png\"  alt=\"2\" width = 360px></td>\n",
    "    <td> <img src=\"pressure_debug/MG_iter_2D_circle_256_master_2.png\"  alt=\"2\" width = 360px></td>\n",
    "  </tr>\n",
    "</table>"
   ]
  },
  {
   "cell_type": "markdown",
   "metadata": {
    "slideshow": {
     "slide_type": "slide"
    }
   },
   "source": [
    "## With `master` branch, but `L∞=1e-3` on the residuals for V-cycle\n",
    "\n",
    "<table>\n",
    "  <tr>\n",
    "    <td> <img src=\"pressure_debug/MG_iter_2D_circle_64_master_Linfty.gif\"  alt=\"1\" width = 360px></td>\n",
    "    <td> <img src=\"pressure_debug/MG_iter_2D_circle_128_master_Linfty.gif\"  alt=\"2\" width = 360px></td>\n",
    "    <td> <img src=\"pressure_debug/MG_iter_2D_circle_256_master_Linfty.gif\"  alt=\"2\" width = 360px></td>\n",
    "  </tr>\n",
    "\n",
    "<table>\n",
    "  <tr>\n",
    "    <td> <img src=\"pressure_debug/MG_iter_2D_circle_64_master_Linfty.png\"  alt=\"1\" width = 360px></td>\n",
    "    <td> <img src=\"pressure_debug/MG_iter_2D_circle_128_master_Linfty.png\"  alt=\"2\" width = 360px></td>\n",
    "    <td> <img src=\"pressure_debug/MG_iter_2D_circle_256_master_Linfty.png\"  alt=\"2\" width = 360px></td>\n",
    "  </tr>\n",
    "</table>\n",
    "\n",
    "- 1257/2464 (...%) iteration of `pcg!` max out at 6 for 256"
   ]
  },
  {
   "cell_type": "markdown",
   "metadata": {
    "slideshow": {
     "slide_type": "slide"
    }
   },
   "source": [
    "## Without a limit on the number of Multigrid levels\n",
    "\n",
    "<table>\n",
    "  <tr>\n",
    "    <td> <img src=\"pressure_debug/MG_iter_2D_circle_64_InfVcycle.gif\"  alt=\"1\" width = 360px></td>\n",
    "    <td> <img src=\"pressure_debug/MG_iter_2D_circle_128_InfVcycle.gif\"  alt=\"2\" width = 360px></td>\n",
    "    <td> <img src=\"pressure_debug/MG_iter_2D_circle_256_InfVcycle.gif\"  alt=\"2\" width = 360px></td>\n",
    "  </tr>\n",
    "</table>\n",
    "\n",
    "\n",
    "<table>\n",
    "  <tr>\n",
    "    <td> <img src=\"pressure_debug/MG_iter_2D_circle_64_InfVcycle.png\"  alt=\"1\" width = 360px></td>\n",
    "    <td> <img src=\"pressure_debug/MG_iter_2D_circle_128_InfVcycle.png\"  alt=\"2\" width = 360px></td>\n",
    "    <td> <img src=\"pressure_debug/MG_iter_2D_circle_256_InfVcycle.png\"  alt=\"2\" width = 360px></td>\n",
    "  </tr>\n",
    "</table>"
   ]
  },
  {
   "cell_type": "markdown",
   "metadata": {
    "slideshow": {
     "slide_type": "slide"
    }
   },
   "source": [
    "## Without a limit on the number of Multigrid levels and a least one V-cycle per `solver!`\n",
    "\n",
    "<table>\n",
    "  <tr>\n",
    "    <td> <img src=\"pressure_debug/MG_iter_2D_circle_64_InfVcycle_Vcycle1.gif\"  alt=\"1\" width = 360px></td>\n",
    "    <td> <img src=\"pressure_debug/MG_iter_2D_circle_128_InfVcycle_Vcycle1.gif\"  alt=\"2\" width = 360px></td>\n",
    "    <td> <img src=\"pressure_debug/MG_iter_2D_circle_256_InfVcycle_Vcycle1.gif\"  alt=\"2\" width = 360px></td>\n",
    "  </tr>\n",
    "</table>\n",
    "\n",
    "\n",
    "<table>\n",
    "  <tr>\n",
    "    <td> <img src=\"pressure_debug/MG_iter_2D_circle_64_InfVcycle_Vcycle1.png\"  alt=\"1\" width = 360px></td>\n",
    "    <td> <img src=\"pressure_debug/MG_iter_2D_circle_128_InfVcycle_Vcycle1.png\"  alt=\"2\" width = 360px></td>\n",
    "    <td> <img src=\"pressure_debug/MG_iter_2D_circle_256_InfVcycle_Vcycle1.png\"  alt=\"2\" width = 360px></td>\n",
    "  </tr>\n",
    "</table>\n",
    "\n",
    "- 346/910 (38%) iteration of `pcg!` max out at 6 for 64\n",
    "- 351/2064 (17%) iteration of `pcg!` max out at 6 for 128\n",
    "- 290/4626 (6%) iteration of `pcg!` max out at 6 for 256"
   ]
  },
  {
   "cell_type": "markdown",
   "metadata": {
    "slideshow": {
     "slide_type": "slide"
    }
   },
   "source": [
    "## Without a limit on the number of Multigrid levels  `L∞=1e-3` on the residuals for V-cycle\n",
    "\n",
    "<table>\n",
    "  <tr>\n",
    "    <td> <img src=\"pressure_debug/MG_iter_2D_circle_64_InfVcycle_Linfty.gif\"  alt=\"1\" width = 360px></td>\n",
    "    <td> <img src=\"pressure_debug/MG_iter_2D_circle_128_InfVcycle_Linfty.gif\"  alt=\"2\" width = 360px></td>\n",
    "    <td> <img src=\"pressure_debug/MG_iter_2D_circle_256_InfVcycle_Linfty.gif\"  alt=\"2\" width = 360px></td>\n",
    "  </tr>\n",
    "</table>\n",
    "\n",
    "\n",
    "<table>\n",
    "  <tr>\n",
    "    <td> <img src=\"pressure_debug/MG_iter_2D_circle_64_InfVcycle_Linfty.png\"  alt=\"1\" width = 360px></td>\n",
    "    <td> <img src=\"pressure_debug/MG_iter_2D_circle_128_InfVcycle_Linfty.png\"  alt=\"2\" width = 360px></td>\n",
    "    <td> <img src=\"pressure_debug/MG_iter_2D_circle_256_InfVcycle_Linfty.png\"  alt=\"2\" width = 360px></td>\n",
    "  </tr>\n",
    "</table>\n",
    "(looks the same but this is the results)\n",
    "\n",
    "- 346/912 (38%) iteration of `pcg!` max out at 6 for 64\n",
    "- 351/2064 (17%) iteration of `pcg!` max out at 6 for 128\n",
    "- 290/4626 (6%) iteration of `pcg!` max out at 6 for 256"
   ]
  },
  {
   "cell_type": "markdown",
   "metadata": {
    "slideshow": {
     "slide_type": "slide"
    }
   },
   "source": [
    "## Without a limit on the number of Multigrid levels and a least 16 calls `pcg!` in `solver!`\n",
    "\n",
    "<table>\n",
    "  <tr>\n",
    "    <td> <img src=\"pressure_debug/MG_iter_2D_circle_64_InfVcycle_pcg16.gif\"  alt=\"1\" width = 360px></td>\n",
    "    <td> <img src=\"pressure_debug/MG_iter_2D_circle_128_InfVcycle_pcg16.gif\"  alt=\"2\" width = 360px></td>\n",
    "    <td> <img src=\"pressure_debug/MG_iter_2D_circle_256_InfVcycle_pcg16.gif\"  alt=\"2\" width = 360px></td>\n",
    "  </tr>\n",
    "</table>\n",
    "\n",
    "\n",
    "<table>\n",
    "  <tr>\n",
    "    <td> <img src=\"pressure_debug/MG_iter_2D_circle_64_InfVcycle_pcg16.png\"  alt=\"1\" width = 360px></td>\n",
    "    <td> <img src=\"pressure_debug/MG_iter_2D_circle_128_InfVcycle_pcg16.png\"  alt=\"2\" width = 360px></td>\n",
    "    <td> <img src=\"pressure_debug/MG_iter_2D_circle_256_InfVcycle_pcg16.png\"  alt=\"2\" width = 360px></td>\n",
    "  </tr>\n",
    "</table>"
   ]
  },
  {
   "cell_type": "markdown",
   "metadata": {
    "slideshow": {
     "slide_type": "slide"
    }
   },
   "source": [
    "## Without a limit on the number of Multigrid levels and a least one V-cycle per `solver!` and 16 `pcg!` iterations per `solver!`\n",
    "\n",
    "<table>\n",
    "  <tr>\n",
    "    <td> <img src=\"pressure_debug/MG_iter_2D_circle_64_InfVcycle_Vcycle1_pcg16.gif\"  alt=\"1\" width = 360px></td>\n",
    "    <td> <img src=\"pressure_debug/MG_iter_2D_circle_128_InfVcycle_Vcycle1_pcg16.gif\"  alt=\"2\" width = 360px></td>\n",
    "    <td> <img src=\"pressure_debug/MG_iter_2D_circle_256_InfVcycle_Vcycle1_pcg16.gif\"  alt=\"2\" width = 360px></td>\n",
    "  </tr>\n",
    "</table>\n",
    "\n",
    "\n",
    "<table>\n",
    "  <tr>\n",
    "    <td> <img src=\"pressure_debug/MG_iter_2D_circle_64_InfVcycle_Vcycle1_pcg16.png\"  alt=\"1\" width = 360px></td>\n",
    "    <td> <img src=\"pressure_debug/MG_iter_2D_circle_128_InfVcycle_Vcycle1_pcg16.png\"  alt=\"2\" width = 360px></td>\n",
    "    <td> <img src=\"pressure_debug/MG_iter_2D_circle_256_InfVcycle_Vcycle1_pcg16.png\"  alt=\"2\" width = 360px></td>\n",
    "  </tr>\n",
    "</table>\n",
    "\n",
    "- 40/910 (4%) iteration of `pcg!` max out at 16 for 64\n",
    "- 41/2064 (2%) iteration of `pcg!` max out at 16 for 128\n",
    "- 42/4626 (1%) iteration of `pcg!` max out at 16 for 256"
   ]
  },
  {
   "cell_type": "markdown",
   "metadata": {
    "slideshow": {
     "slide_type": "slide"
    }
   },
   "source": [
    "## Without a limit on the number of Multigrid levels and a least one V-cycle per `solver!` and 16 `pcg!` iterations per `solver!` and V-cycle `tol=1e-6`\n",
    "\n",
    "<table>\n",
    "  <tr>\n",
    "    <td> <img src=\"pressure_debug/MG_iter_2D_circle_64_InfVcycle_Vcycle1_pcg16_e6.gif\"  alt=\"1\" width = 360px></td>\n",
    "    <td> <img src=\"pressure_debug/MG_iter_2D_circle_128_InfVcycle_Vcycle1_pcg16_e6.gif\"  alt=\"2\" width = 360px></td>\n",
    "    <td> <img src=\"pressure_debug/MG_iter_2D_circle_256_InfVcycle_Vcycle1_pcg16_e6.gif\"  alt=\"2\" width = 360px></td>\n",
    "  </tr>\n",
    "</table>\n",
    "\n",
    "\n",
    "<table>\n",
    "  <tr>\n",
    "    <td> <img src=\"pressure_debug/MG_iter_2D_circle_64_InfVcycle_Vcycle1_pcg16_e6.png\"  alt=\"1\" width = 360px></td>\n",
    "    <td> <img src=\"pressure_debug/MG_iter_2D_circle_128_InfVcycle_Vcycle1_pcg16_e6.png\"  alt=\"2\" width = 360px></td>\n",
    "    <td> <img src=\"pressure_debug/MG_iter_2D_circle_256_InfVcycle_Vcycle1_pcg16_e6.png\"  alt=\"2\" width = 360px></td>\n",
    "  </tr>\n",
    "</table>\n",
    "\n",
    "- 41/910 (4%) iteration of `pcg!` max out at 16 for 64\n",
    "- 44/2064 (2%) iteration of `pcg!` max out at 16 for 128\n",
    "- 48/4626 (1%) iteration of `pcg!` max out at 16 for 256"
   ]
  },
  {
   "cell_type": "code",
   "execution_count": null,
   "metadata": {},
   "outputs": [],
   "source": []
  }
 ],
 "metadata": {
  "celltoolbar": "Slideshow",
  "kernelspec": {
   "display_name": "Python 3 (ipykernel)",
   "language": "python",
   "name": "python3"
  },
  "language_info": {
   "codemirror_mode": {
    "name": "ipython",
    "version": 3
   },
   "file_extension": ".py",
   "mimetype": "text/x-python",
   "name": "python",
   "nbconvert_exporter": "python",
   "pygments_lexer": "ipython3",
   "version": "3.8.16"
  }
 },
 "nbformat": 4,
 "nbformat_minor": 2
}
